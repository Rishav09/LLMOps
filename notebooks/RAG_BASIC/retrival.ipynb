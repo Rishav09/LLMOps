{
 "cells": [
  {
   "cell_type": "code",
   "execution_count": 6,
   "id": "b6db4301",
   "metadata": {},
   "outputs": [],
   "source": [
    "import minsearch\n",
    "import json"
   ]
  },
  {
   "cell_type": "code",
   "execution_count": 7,
   "id": "0fa8876d",
   "metadata": {},
   "outputs": [],
   "source": [
    "with open('documents.json', 'rt') as f_in:\n",
    "    docs_raw = json.load(f_in)\n"
   ]
  },
  {
   "cell_type": "code",
   "execution_count": 8,
   "id": "f4113efe",
   "metadata": {},
   "outputs": [],
   "source": [
    "documents = []\n",
    "\n",
    "for course_dict in docs_raw:\n",
    "    for doc in course_dict['documents']:\n",
    "        doc['course'] = course_dict['course']\n",
    "        documents.append(doc)\n"
   ]
  },
  {
   "cell_type": "code",
   "execution_count": 9,
   "id": "f13faad2",
   "metadata": {},
   "outputs": [
    {
     "data": {
      "text/plain": [
       "{'text': \"Data Engineering Zoomcamp FAQ\\nData Engineering Zoomcamp FAQ\\nThe purpose of this document is to capture Frequently asked technical questions\\nEditing guidelines:\\nWhen adding a new FAQ entry, make sure the question is “Heading 2”\\nFeel free to improve if you see something is off\\nDon’t change the formatting in the Data document or add any visual “improvements” (make a copy for yourself first if you need to do it for whatever reason)\\nDon’t change the pages format (it should be “pageless”)\\nAdd name and date for reference, if possible\\nThe next cohort starts January 13th 2025. More info at DTC.\\nRegister before the course starts using this link.\\nJoint the course Telegram channel with announcements.\\nDon’t forget to register in DataTalks.Club's Slack and join the channel.\",\n",
       " 'section': 'General course-related questions',\n",
       " 'question': 'Course - When does the course start?',\n",
       " 'course': 'data-engineering-zoomcamp'}"
      ]
     },
     "execution_count": 9,
     "metadata": {},
     "output_type": "execute_result"
    }
   ],
   "source": [
    "documents[0]"
   ]
  },
  {
   "cell_type": "code",
   "execution_count": 10,
   "id": "ab18dc54",
   "metadata": {},
   "outputs": [],
   "source": [
    "index = minsearch.Index(\n",
    "    text_fields=[\"question\", \"text\", \"section\"],\n",
    "    keyword_fields=[\"course\"]\n",
    ")"
   ]
  },
  {
   "cell_type": "code",
   "execution_count": 11,
   "id": "13363f88",
   "metadata": {},
   "outputs": [],
   "source": [
    "q = 'the course has already started, can I still enroll?'"
   ]
  },
  {
   "cell_type": "code",
   "execution_count": 12,
   "id": "393b20c4",
   "metadata": {},
   "outputs": [],
   "source": [
    "q = 'the course has already started, can I still enroll?'\n"
   ]
  },
  {
   "cell_type": "code",
   "execution_count": 13,
   "id": "38e05dd5",
   "metadata": {},
   "outputs": [
    {
     "data": {
      "text/plain": [
       "<minsearch.minsearch.Index at 0x115e7a240>"
      ]
     },
     "execution_count": 13,
     "metadata": {},
     "output_type": "execute_result"
    }
   ],
   "source": [
    "index.fit(documents)\n"
   ]
  },
  {
   "cell_type": "code",
   "execution_count": 14,
   "id": "538c2e1f",
   "metadata": {},
   "outputs": [
    {
     "data": {
      "text/plain": [
       "'If a course has already started, whether you can still enroll typically depends on the specific policies of the institution or platform offering the course. Here are a few steps you can take:\\n\\n1. **Check with the Institution**: Contact the admissions office or the course instructor to inquire about late enrollment policies.\\n\\n2. **Review Enrollment Policies**: Look for information on the course’s website or in any materials provided about late enrollment or add/drop deadlines.\\n\\n3. **Consider Audit Options**: Some institutions may allow you to audit the course, which means you can attend classes but may not receive credit.\\n\\n4. **Explore Online Options**: If the course is offered online, sometimes platforms allow you to enroll late and catch up at your own pace.\\n\\n5. **Discuss with the Instructor**: If the course is small or has a flexible format, the instructor might be willing to accommodate a late start.\\n\\nKeep in mind that catching up with course material might require extra effort on your part to review missed lectures and assignments.'"
      ]
     },
     "execution_count": 14,
     "metadata": {},
     "output_type": "execute_result"
    }
   ],
   "source": [
    "from openai import OpenAI\n",
    "client = OpenAI()\n",
    "response = client.chat.completions.create(\n",
    "    model='gpt-4o',\n",
    "    messages=[{\"role\": \"user\", \"content\": q}]\n",
    ")\n",
    "\n",
    "response.choices[0].message.content"
   ]
  },
  {
   "cell_type": "code",
   "execution_count": 15,
   "id": "a28582f1",
   "metadata": {},
   "outputs": [
    {
     "name": "stdout",
     "output_type": "stream",
     "text": [
      "('If a course has already started, whether you can still enroll typically '\n",
      " 'depends on the specific policies of the institution or platform offering the '\n",
      " 'course. Here are a few steps you can take:\\n'\n",
      " '\\n'\n",
      " '1. **Check with the Institution**: Contact the admissions office or the '\n",
      " 'course instructor to inquire about late enrollment policies.\\n'\n",
      " '\\n'\n",
      " '2. **Review Enrollment Policies**: Look for information on the course’s '\n",
      " 'website or in any materials provided about late enrollment or add/drop '\n",
      " 'deadlines.\\n'\n",
      " '\\n'\n",
      " '3. **Consider Audit Options**: Some institutions may allow you to audit the '\n",
      " 'course, which means you can attend classes but may not receive credit.\\n'\n",
      " '\\n'\n",
      " '4. **Explore Online Options**: If the course is offered online, sometimes '\n",
      " 'platforms allow you to enroll late and catch up at your own pace.\\n'\n",
      " '\\n'\n",
      " '5. **Discuss with the Instructor**: If the course is small or has a flexible '\n",
      " 'format, the instructor might be willing to accommodate a late start.\\n'\n",
      " '\\n'\n",
      " 'Keep in mind that catching up with course material might require extra '\n",
      " 'effort on your part to review missed lectures and assignments.')\n"
     ]
    }
   ],
   "source": [
    "import pprint\n",
    "pprint.pprint(response.choices[0].message.content)"
   ]
  },
  {
   "cell_type": "code",
   "execution_count": 16,
   "id": "2efaccdc",
   "metadata": {},
   "outputs": [],
   "source": [
    "def search(query):\n",
    "    boost = {'question': 3.0, 'section': 0.5}\n",
    "\n",
    "    results = index.search(\n",
    "        query=query,\n",
    "        filter_dict={'course': 'data-engineering-zoomcamp'},\n",
    "        boost_dict=boost,\n",
    "        num_results=5\n",
    "    )\n",
    "\n",
    "    return results"
   ]
  },
  {
   "cell_type": "code",
   "execution_count": 17,
   "id": "61c75c4e",
   "metadata": {},
   "outputs": [],
   "source": [
    "def build_prompt(query, search_results):\n",
    "    template = (\n",
    "        \"You're a course teaching assistant. Answer the QUESTION based on the CONTEXT \"\n",
    "        \"from the FAQ database. Use only the facts from the CONTEXT when answering.\\n\\n\"\n",
    "        \"QUESTION: {question}\\n\\nCONTEXT:\\n{context}\"\n",
    "    )\n",
    "\n",
    "    # Efficiently assemble the context blocks\n",
    "    blocks = [\n",
    "        f\"section: {doc['section']}\\n\"\n",
    "        f\"question: {doc['question']}\\n\"\n",
    "        f\"answer: {doc['text']}\"\n",
    "        for doc in search_results\n",
    "    ]\n",
    "    context = \"\\n\\n\".join(blocks)\n",
    "\n",
    "    return template.format(question=query, context=context)\n"
   ]
  },
  {
   "cell_type": "code",
   "execution_count": 18,
   "id": "3238949e",
   "metadata": {},
   "outputs": [],
   "source": [
    "def llm(prompt):\n",
    "    response = client.chat.completions.create(\n",
    "        model='gpt-4o',\n",
    "        messages=[{\"role\": \"user\", \"content\": prompt}]\n",
    "    )\n",
    "    \n",
    "    return response.choices[0].message.content"
   ]
  },
  {
   "cell_type": "code",
   "execution_count": 19,
   "id": "14001747",
   "metadata": {},
   "outputs": [],
   "source": [
    "query = 'how do I run kafka?'\n",
    "\n",
    "def rag(query):\n",
    "    search_results = search(query)\n",
    "    prompt = build_prompt(query, search_results)\n",
    "    answer = llm(prompt)\n",
    "    return answer"
   ]
  },
  {
   "cell_type": "code",
   "execution_count": 20,
   "id": "f9844b8a",
   "metadata": {},
   "outputs": [
    {
     "name": "stdout",
     "output_type": "stream",
     "text": [
      "('To run Kafka, you need to ensure that your environment is properly set up, '\n",
      " 'especially if you are encountering issues like \"ModuleNotFoundError\". Here '\n",
      " 'are the steps:\\n'\n",
      " '\\n'\n",
      " '1. **Using Python**:\\n'\n",
      " '   - Create a virtual environment:\\n'\n",
      " '     ```bash\\n'\n",
      " '     python -m venv env\\n'\n",
      " '     source env/bin/activate  # For MacOS/Linux\\n'\n",
      " '     # On Windows, use: env\\\\Scripts\\\\activate\\n'\n",
      " '     ```\\n'\n",
      " '\\n'\n",
      " '   - Install the necessary dependencies:\\n'\n",
      " '     ```bash\\n'\n",
      " '     pip install -r ../requirements.txt\\n'\n",
      " '     ```\\n'\n",
      " '\\n'\n",
      " '   - Ensure that Docker images are up and running if needed.\\n'\n",
      " '\\n'\n",
      " '2. **Running Java Kafka applications**:\\n'\n",
      " '   - In your project directory, run the command specific to your Java '\n",
      " 'application:\\n'\n",
      " '     ```bash\\n'\n",
      " '     java -cp build/libs/<jar_name>-1.0-SNAPSHOT.jar:out '\n",
      " 'src/main/java/org/example/JsonProducer.java\\n'\n",
      " '     ```\\n'\n",
      " '\\n'\n",
      " 'For Python users encountering module issues, it is suggested to install '\n",
      " '`kafka-python-ng` instead of `kafka-python` due to release issues:\\n'\n",
      " '```bash\\n'\n",
      " 'pip install kafka-python-ng\\n'\n",
      " '```\\n'\n",
      " '\\n'\n",
      " 'By following these steps, you should be able to run Kafka using either '\n",
      " 'Python or Java in your development environment.')\n"
     ]
    }
   ],
   "source": [
    "import minsearch\n",
    "\n",
    "pprint.pprint(rag(query))"
   ]
  },
  {
   "cell_type": "code",
   "execution_count": 21,
   "id": "4deb8c5a",
   "metadata": {},
   "outputs": [
    {
     "name": "stdout",
     "output_type": "stream",
     "text": [
      "('Yes, you can still enroll in the course after it has started. You are '\n",
      " 'eligible to submit the homework, but be mindful of the deadlines for turning '\n",
      " \"in homework and final projects. It's important not to leave everything for \"\n",
      " 'the last minute.')\n"
     ]
    }
   ],
   "source": [
    "pprint.pprint(rag('the course has already started, can I still enroll?'))\n"
   ]
  },
  {
   "cell_type": "code",
   "execution_count": 22,
   "id": "dd7db29d",
   "metadata": {},
   "outputs": [
    {
     "data": {
      "text/plain": [
       "{'text': \"Data Engineering Zoomcamp FAQ\\nData Engineering Zoomcamp FAQ\\nThe purpose of this document is to capture Frequently asked technical questions\\nEditing guidelines:\\nWhen adding a new FAQ entry, make sure the question is “Heading 2”\\nFeel free to improve if you see something is off\\nDon’t change the formatting in the Data document or add any visual “improvements” (make a copy for yourself first if you need to do it for whatever reason)\\nDon’t change the pages format (it should be “pageless”)\\nAdd name and date for reference, if possible\\nThe next cohort starts January 13th 2025. More info at DTC.\\nRegister before the course starts using this link.\\nJoint the course Telegram channel with announcements.\\nDon’t forget to register in DataTalks.Club's Slack and join the channel.\",\n",
       " 'section': 'General course-related questions',\n",
       " 'question': 'Course - When does the course start?',\n",
       " 'course': 'data-engineering-zoomcamp'}"
      ]
     },
     "execution_count": 22,
     "metadata": {},
     "output_type": "execute_result"
    }
   ],
   "source": [
    "documents[0]\n"
   ]
  },
  {
   "cell_type": "code",
   "execution_count": 27,
   "id": "db62b153",
   "metadata": {},
   "outputs": [],
   "source": [
    "from elasticsearch import Elasticsearch\n",
    "\n",
    "es_client = Elasticsearch(\n",
    "    \"http://localhost:9200\",\n",
    "    # forces 8-compatible headers\n",
    ")"
   ]
  },
  {
   "cell_type": "code",
   "execution_count": 26,
   "id": "b8ace422",
   "metadata": {},
   "outputs": [
    {
     "name": "stderr",
     "output_type": "stream",
     "text": [
      "/var/folders/1j/p377p5hj2sg6xd03v3fxw33c0000gn/T/ipykernel_20945/581341052.py:18: DeprecationWarning: The 'body' parameter is deprecated and will be removed in a future version. Instead use individual parameters.\n",
      "  es_client.indices.create(index=index_name, body=index_settings)\n"
     ]
    },
    {
     "ename": "BadRequestError",
     "evalue": "BadRequestError(400, 'resource_already_exists_exception', 'index [course-questions/5j22wA5zQsyglii6u4JNGg] already exists')",
     "output_type": "error",
     "traceback": [
      "\u001b[31m---------------------------------------------------------------------------\u001b[39m",
      "\u001b[31mBadRequestError\u001b[39m                           Traceback (most recent call last)",
      "\u001b[36mCell\u001b[39m\u001b[36m \u001b[39m\u001b[32mIn[26]\u001b[39m\u001b[32m, line 18\u001b[39m\n\u001b[32m      1\u001b[39m index_settings = {\n\u001b[32m      2\u001b[39m     \u001b[33m\"\u001b[39m\u001b[33msettings\u001b[39m\u001b[33m\"\u001b[39m: {\n\u001b[32m      3\u001b[39m         \u001b[33m\"\u001b[39m\u001b[33mnumber_of_shards\u001b[39m\u001b[33m\"\u001b[39m: \u001b[32m1\u001b[39m,\n\u001b[32m   (...)\u001b[39m\u001b[32m     14\u001b[39m }\n\u001b[32m     15\u001b[39m }\n\u001b[32m     16\u001b[39m index_name = \u001b[33m\"\u001b[39m\u001b[33mcourse-questions\u001b[39m\u001b[33m\"\u001b[39m\n\u001b[32m---> \u001b[39m\u001b[32m18\u001b[39m \u001b[43mes_client\u001b[49m\u001b[43m.\u001b[49m\u001b[43mindices\u001b[49m\u001b[43m.\u001b[49m\u001b[43mcreate\u001b[49m\u001b[43m(\u001b[49m\u001b[43mindex\u001b[49m\u001b[43m=\u001b[49m\u001b[43mindex_name\u001b[49m\u001b[43m,\u001b[49m\u001b[43m \u001b[49m\u001b[43mbody\u001b[49m\u001b[43m=\u001b[49m\u001b[43mindex_settings\u001b[49m\u001b[43m)\u001b[49m\n",
      "\u001b[36mFile \u001b[39m\u001b[32m~/work/LLMOps/.venv/lib/python3.12/site-packages/elasticsearch/_sync/client/utils.py:414\u001b[39m, in \u001b[36m_rewrite_parameters.<locals>.wrapper.<locals>.wrapped\u001b[39m\u001b[34m(*args, **kwargs)\u001b[39m\n\u001b[32m    411\u001b[39m         \u001b[38;5;28;01mexcept\u001b[39;00m \u001b[38;5;167;01mKeyError\u001b[39;00m:\n\u001b[32m    412\u001b[39m             \u001b[38;5;28;01mpass\u001b[39;00m\n\u001b[32m--> \u001b[39m\u001b[32m414\u001b[39m \u001b[38;5;28;01mreturn\u001b[39;00m \u001b[43mapi\u001b[49m\u001b[43m(\u001b[49m\u001b[43m*\u001b[49m\u001b[43margs\u001b[49m\u001b[43m,\u001b[49m\u001b[43m \u001b[49m\u001b[43m*\u001b[49m\u001b[43m*\u001b[49m\u001b[43mkwargs\u001b[49m\u001b[43m)\u001b[49m\n",
      "\u001b[36mFile \u001b[39m\u001b[32m~/work/LLMOps/.venv/lib/python3.12/site-packages/elasticsearch/_sync/client/indices.py:517\u001b[39m, in \u001b[36mIndicesClient.create\u001b[39m\u001b[34m(self, index, aliases, error_trace, filter_path, human, mappings, master_timeout, pretty, settings, timeout, wait_for_active_shards)\u001b[39m\n\u001b[32m    515\u001b[39m \u001b[38;5;28;01mif\u001b[39;00m __body \u001b[38;5;129;01mis\u001b[39;00m \u001b[38;5;129;01mnot\u001b[39;00m \u001b[38;5;28;01mNone\u001b[39;00m:\n\u001b[32m    516\u001b[39m     __headers[\u001b[33m\"\u001b[39m\u001b[33mcontent-type\u001b[39m\u001b[33m\"\u001b[39m] = \u001b[33m\"\u001b[39m\u001b[33mapplication/json\u001b[39m\u001b[33m\"\u001b[39m\n\u001b[32m--> \u001b[39m\u001b[32m517\u001b[39m \u001b[38;5;28;01mreturn\u001b[39;00m \u001b[38;5;28;43mself\u001b[39;49m\u001b[43m.\u001b[49m\u001b[43mperform_request\u001b[49m\u001b[43m(\u001b[49m\u001b[43m  \u001b[49m\u001b[38;5;66;43;03m# type: ignore[return-value]\u001b[39;49;00m\n\u001b[32m    518\u001b[39m \u001b[43m    \u001b[49m\u001b[33;43m\"\u001b[39;49m\u001b[33;43mPUT\u001b[39;49m\u001b[33;43m\"\u001b[39;49m\u001b[43m,\u001b[49m\u001b[43m \u001b[49m\u001b[43m__path\u001b[49m\u001b[43m,\u001b[49m\u001b[43m \u001b[49m\u001b[43mparams\u001b[49m\u001b[43m=\u001b[49m\u001b[43m__query\u001b[49m\u001b[43m,\u001b[49m\u001b[43m \u001b[49m\u001b[43mheaders\u001b[49m\u001b[43m=\u001b[49m\u001b[43m__headers\u001b[49m\u001b[43m,\u001b[49m\u001b[43m \u001b[49m\u001b[43mbody\u001b[49m\u001b[43m=\u001b[49m\u001b[43m__body\u001b[49m\n\u001b[32m    519\u001b[39m \u001b[43m\u001b[49m\u001b[43m)\u001b[49m\n",
      "\u001b[36mFile \u001b[39m\u001b[32m~/work/LLMOps/.venv/lib/python3.12/site-packages/elasticsearch/_sync/client/_base.py:390\u001b[39m, in \u001b[36mNamespacedClient.perform_request\u001b[39m\u001b[34m(self, method, path, params, headers, body)\u001b[39m\n\u001b[32m    379\u001b[39m \u001b[38;5;28;01mdef\u001b[39;00m\u001b[38;5;250m \u001b[39m\u001b[34mperform_request\u001b[39m(\n\u001b[32m    380\u001b[39m     \u001b[38;5;28mself\u001b[39m,\n\u001b[32m    381\u001b[39m     method: \u001b[38;5;28mstr\u001b[39m,\n\u001b[32m   (...)\u001b[39m\u001b[32m    388\u001b[39m     \u001b[38;5;66;03m# Use the internal clients .perform_request() implementation\u001b[39;00m\n\u001b[32m    389\u001b[39m     \u001b[38;5;66;03m# so we take advantage of their transport options.\u001b[39;00m\n\u001b[32m--> \u001b[39m\u001b[32m390\u001b[39m     \u001b[38;5;28;01mreturn\u001b[39;00m \u001b[38;5;28;43mself\u001b[39;49m\u001b[43m.\u001b[49m\u001b[43m_client\u001b[49m\u001b[43m.\u001b[49m\u001b[43mperform_request\u001b[49m\u001b[43m(\u001b[49m\n\u001b[32m    391\u001b[39m \u001b[43m        \u001b[49m\u001b[43mmethod\u001b[49m\u001b[43m,\u001b[49m\u001b[43m \u001b[49m\u001b[43mpath\u001b[49m\u001b[43m,\u001b[49m\u001b[43m \u001b[49m\u001b[43mparams\u001b[49m\u001b[43m=\u001b[49m\u001b[43mparams\u001b[49m\u001b[43m,\u001b[49m\u001b[43m \u001b[49m\u001b[43mheaders\u001b[49m\u001b[43m=\u001b[49m\u001b[43mheaders\u001b[49m\u001b[43m,\u001b[49m\u001b[43m \u001b[49m\u001b[43mbody\u001b[49m\u001b[43m=\u001b[49m\u001b[43mbody\u001b[49m\n\u001b[32m    392\u001b[39m \u001b[43m    \u001b[49m\u001b[43m)\u001b[49m\n",
      "\u001b[36mFile \u001b[39m\u001b[32m~/work/LLMOps/.venv/lib/python3.12/site-packages/elasticsearch/_sync/client/_base.py:321\u001b[39m, in \u001b[36mBaseClient.perform_request\u001b[39m\u001b[34m(self, method, path, params, headers, body)\u001b[39m\n\u001b[32m    318\u001b[39m         \u001b[38;5;28;01mexcept\u001b[39;00m (\u001b[38;5;167;01mValueError\u001b[39;00m, \u001b[38;5;167;01mKeyError\u001b[39;00m, \u001b[38;5;167;01mTypeError\u001b[39;00m):\n\u001b[32m    319\u001b[39m             \u001b[38;5;28;01mpass\u001b[39;00m\n\u001b[32m--> \u001b[39m\u001b[32m321\u001b[39m     \u001b[38;5;28;01mraise\u001b[39;00m HTTP_EXCEPTIONS.get(meta.status, ApiError)(\n\u001b[32m    322\u001b[39m         message=message, meta=meta, body=resp_body\n\u001b[32m    323\u001b[39m     )\n\u001b[32m    325\u001b[39m \u001b[38;5;66;03m# 'X-Elastic-Product: Elasticsearch' should be on every 2XX response.\u001b[39;00m\n\u001b[32m    326\u001b[39m \u001b[38;5;28;01mif\u001b[39;00m \u001b[38;5;129;01mnot\u001b[39;00m \u001b[38;5;28mself\u001b[39m._verified_elasticsearch:\n\u001b[32m    327\u001b[39m     \u001b[38;5;66;03m# If the header is set we mark the server as verified.\u001b[39;00m\n",
      "\u001b[31mBadRequestError\u001b[39m: BadRequestError(400, 'resource_already_exists_exception', 'index [course-questions/5j22wA5zQsyglii6u4JNGg] already exists')"
     ]
    }
   ],
   "source": [
    "index_settings = {\n",
    "    \"settings\": {\n",
    "        \"number_of_shards\": 1,\n",
    "        \"number_of_replicas\": 0\n",
    "    },\n",
    "    \"mappings\": {\n",
    "        \"properties\": {\n",
    "            \"text\": {\"type\": \"text\"},\n",
    "            \"section\": {\"type\": \"text\"},\n",
    "            \"question\": {\"type\": \"text\"},\n",
    "            \"course\": {\"type\": \"keyword\"} \n",
    "        }\n",
    "    \n",
    "}\n",
    "}\n",
    "index_name = \"course-questions\"\n",
    "\n",
    "es_client.indices.create(index=index_name, body=index_settings)"
   ]
  },
  {
   "cell_type": "code",
   "execution_count": 28,
   "id": "d0db0192",
   "metadata": {},
   "outputs": [
    {
     "data": {
      "text/plain": [
       "{'text': \"Data Engineering Zoomcamp FAQ\\nData Engineering Zoomcamp FAQ\\nThe purpose of this document is to capture Frequently asked technical questions\\nEditing guidelines:\\nWhen adding a new FAQ entry, make sure the question is “Heading 2”\\nFeel free to improve if you see something is off\\nDon’t change the formatting in the Data document or add any visual “improvements” (make a copy for yourself first if you need to do it for whatever reason)\\nDon’t change the pages format (it should be “pageless”)\\nAdd name and date for reference, if possible\\nThe next cohort starts January 13th 2025. More info at DTC.\\nRegister before the course starts using this link.\\nJoint the course Telegram channel with announcements.\\nDon’t forget to register in DataTalks.Club's Slack and join the channel.\",\n",
       " 'section': 'General course-related questions',\n",
       " 'question': 'Course - When does the course start?',\n",
       " 'course': 'data-engineering-zoomcamp'}"
      ]
     },
     "execution_count": 28,
     "metadata": {},
     "output_type": "execute_result"
    }
   ],
   "source": [
    "documents[0]\n"
   ]
  },
  {
   "cell_type": "code",
   "execution_count": 29,
   "id": "2bb690df",
   "metadata": {},
   "outputs": [],
   "source": [
    "from tqdm.auto import tqdm"
   ]
  },
  {
   "cell_type": "code",
   "execution_count": 30,
   "id": "e498a07b",
   "metadata": {},
   "outputs": [
    {
     "data": {
      "application/vnd.jupyter.widget-view+json": {
       "model_id": "96c09ef6509d40adaf6d64f71988a8a6",
       "version_major": 2,
       "version_minor": 0
      },
      "text/plain": [
       "  0%|          | 0/1122 [00:00<?, ?it/s]"
      ]
     },
     "metadata": {},
     "output_type": "display_data"
    }
   ],
   "source": [
    "for doc in tqdm(documents):\n",
    "    es_client.index(index=index_name, document=doc)"
   ]
  },
  {
   "cell_type": "code",
   "execution_count": 31,
   "id": "46932ee7",
   "metadata": {},
   "outputs": [],
   "source": [
    "query = 'I just disovered the course. Can I still join it?'\n"
   ]
  },
  {
   "cell_type": "code",
   "execution_count": null,
   "id": "8258bfb4",
   "metadata": {},
   "outputs": [],
   "source": [
    "def elastic_search(query):\n",
    "    search_query = {\n",
    "        \"size\": 5,\n",
    "        \"query\": {\n",
    "            \"bool\": {\n",
    "                \"must\": {\n",
    "                    \"multi_match\": {\n",
    "                        \"query\": query,\n",
    "                        \"fields\": [\"question^3\", \"text\", \"section\"],\n",
    "                        \"type\": \"best_fields\"\n",
    "                    }\n",
    "                },\n",
    "                \"filter\": {\n",
    "                    \"term\": {\n",
    "                        \"course\": \"data-engineering-zoomcamp\"\n",
    "                    }\n",
    "                }\n",
    "            }\n",
    "        }\n",
    "    }\n",
    "\n",
    "    response = es_client.search(index=index_name, body=search_query)\n",
    "    \n",
    "    result_docs = []\n",
    "    \n",
    "    for hit in response['hits']['hits']:\n",
    "        result_docs.append(hit['_source'])\n",
    "    \n",
    "    return result_docs"
   ]
  },
  {
   "cell_type": "code",
   "execution_count": 34,
   "id": "9611da37",
   "metadata": {},
   "outputs": [],
   "source": [
    "def rag(query):\n",
    "    search_results = elastic_search(query)\n",
    "    prompt = build_prompt(query, search_results)\n",
    "    answer = llm(prompt)\n",
    "    return answer"
   ]
  },
  {
   "cell_type": "code",
   "execution_count": 36,
   "id": "9d4c064d",
   "metadata": {},
   "outputs": [
    {
     "name": "stderr",
     "output_type": "stream",
     "text": [
      "/var/folders/1j/p377p5hj2sg6xd03v3fxw33c0000gn/T/ipykernel_20945/4031590195.py:22: DeprecationWarning: The 'body' parameter is deprecated and will be removed in a future version. Instead use individual parameters.\n",
      "  response = es_client.search(index=index_name, body=search_query)\n"
     ]
    },
    {
     "name": "stdout",
     "output_type": "stream",
     "text": [
      "('Yes, you can still join the course even if you discovered it after the start '\n",
      " 'date. You are eligible to submit homework without registering. However, make '\n",
      " 'sure to meet the deadlines for turning in homework and final projects.')\n"
     ]
    }
   ],
   "source": [
    "pprint.pprint(rag(query))"
   ]
  },
  {
   "cell_type": "code",
   "execution_count": null,
   "id": "ff67d0c1",
   "metadata": {},
   "outputs": [],
   "source": []
  }
 ],
 "metadata": {
  "kernelspec": {
   "display_name": "llmops",
   "language": "python",
   "name": "python3"
  },
  "language_info": {
   "codemirror_mode": {
    "name": "ipython",
    "version": 3
   },
   "file_extension": ".py",
   "mimetype": "text/x-python",
   "name": "python",
   "nbconvert_exporter": "python",
   "pygments_lexer": "ipython3",
   "version": "3.12.10"
  }
 },
 "nbformat": 4,
 "nbformat_minor": 5
}
