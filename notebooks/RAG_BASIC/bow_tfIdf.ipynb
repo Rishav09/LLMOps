{
 "cells": [
  {
   "cell_type": "code",
   "execution_count": 1,
   "id": "0012bf0e",
   "metadata": {},
   "outputs": [],
   "source": [
    "from sklearn.feature_extraction.text import CountVectorizer, TfidfVectorizer\n",
    "import pandas as pd\n"
   ]
  },
  {
   "cell_type": "code",
   "execution_count": 2,
   "id": "ff15b483",
   "metadata": {},
   "outputs": [],
   "source": [
    "docs = [\n",
    "    \"I love tennis\",\n",
    "    \"I love football and tennis\",\n",
    "    \"Tennis is a great sport\",\n",
    "    \"Football is fun and competitive\"\n",
    "]\n"
   ]
  },
  {
   "cell_type": "code",
   "execution_count": 4,
   "id": "4b6d6843",
   "metadata": {},
   "outputs": [
    {
     "name": "stdout",
     "output_type": "stream",
     "text": [
      "🔢 Bag of Words Matrix:\n",
      "   and  competitive  football  fun  great  is  love  sport  tennis\n",
      "0    0            0         0    0      0   0     1      0       1\n",
      "1    1            0         1    0      0   0     1      0       1\n",
      "2    0            0         0    0      1   1     0      1       1\n",
      "3    1            1         1    1      0   1     0      0       0\n"
     ]
    }
   ],
   "source": [
    "bow = CountVectorizer()\n",
    "bow_matrix = bow.fit_transform(docs)\n",
    "bow_df = pd.DataFrame(bow_matrix.toarray(), columns=bow.get_feature_names_out())\n",
    "print(\"🔢 Bag of Words Matrix:\")\n",
    "print(bow_df)"
   ]
  },
  {
   "cell_type": "code",
   "execution_count": 6,
   "id": "ae895f71",
   "metadata": {},
   "outputs": [
    {
     "name": "stdout",
     "output_type": "stream",
     "text": [
      "\n",
      "📊 TF-IDF Matrix:\n",
      "    and  competitive  football   fun  great    is  love  sport  tennis\n",
      "0  0.00         0.00      0.00  0.00   0.00  0.00  0.78   0.00    0.63\n",
      "1  0.52         0.00      0.52  0.00   0.00  0.00  0.52   0.00    0.42\n",
      "2  0.00         0.00      0.00  0.00   0.57  0.45  0.00   0.57    0.37\n",
      "3  0.40         0.51      0.40  0.51   0.00  0.40  0.00   0.00    0.00\n"
     ]
    }
   ],
   "source": [
    "tfidf = TfidfVectorizer()\n",
    "tfidf_matrix = tfidf.fit_transform(docs)\n",
    "tfidf_df = pd.DataFrame(tfidf_matrix.toarray(), columns=tfidf.get_feature_names_out())\n",
    "print(\"\\n📊 TF-IDF Matrix:\")\n",
    "print(tfidf_df.round(2))"
   ]
  },
  {
   "cell_type": "code",
   "execution_count": 7,
   "id": "6f391edf",
   "metadata": {},
   "outputs": [
    {
     "ename": "NameError",
     "evalue": "name 'X' is not defined",
     "output_type": "error",
     "traceback": [
      "\u001b[31m---------------------------------------------------------------------------\u001b[39m",
      "\u001b[31mNameError\u001b[39m                                 Traceback (most recent call last)",
      "\u001b[36mCell\u001b[39m\u001b[36m \u001b[39m\u001b[32mIn[7]\u001b[39m\u001b[32m, line 1\u001b[39m\n\u001b[32m----> \u001b[39m\u001b[32m1\u001b[39m \u001b[43mX\u001b[49m\n",
      "\u001b[31mNameError\u001b[39m: name 'X' is not defined"
     ]
    }
   ],
   "source": [
    "X"
   ]
  },
  {
   "cell_type": "code",
   "execution_count": 6,
   "id": "83608cda",
   "metadata": {},
   "outputs": [
    {
     "data": {
      "text/plain": [
       "True"
      ]
     },
     "execution_count": 6,
     "metadata": {},
     "output_type": "execute_result"
    }
   ],
   "source": [
    "string = \"rishav\"\n",
    "sub_string = \"ris\"\n",
    "string[0:len(sub_string)]==sub_string\n"
   ]
  },
  {
   "cell_type": "code",
   "execution_count": 2,
   "id": "a3d1bedc",
   "metadata": {},
   "outputs": [
    {
     "name": "stdout",
     "output_type": "stream",
     "text": [
      "0\n",
      "1\n",
      "2\n"
     ]
    }
   ],
   "source": [
    "for i in range(len(name)):\n",
    "    print(i)"
   ]
  },
  {
   "cell_type": "code",
   "execution_count": null,
   "id": "9e4f4ef5",
   "metadata": {},
   "outputs": [],
   "source": []
  }
 ],
 "metadata": {
  "kernelspec": {
   "display_name": "llmops",
   "language": "python",
   "name": "python3"
  },
  "language_info": {
   "codemirror_mode": {
    "name": "ipython",
    "version": 3
   },
   "file_extension": ".py",
   "mimetype": "text/x-python",
   "name": "python",
   "nbconvert_exporter": "python",
   "pygments_lexer": "ipython3",
   "version": "3.12.10"
  }
 },
 "nbformat": 4,
 "nbformat_minor": 5
}
