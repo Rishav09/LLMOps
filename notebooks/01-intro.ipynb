{
 "cells": [
  {
   "cell_type": "code",
   "execution_count": 14,
   "id": "9860ae78",
   "metadata": {},
   "outputs": [
    {
     "data": {
      "text/plain": [
       "True"
      ]
     },
     "execution_count": 14,
     "metadata": {},
     "output_type": "execute_result"
    }
   ],
   "source": [
    "from dotenv import load_dotenv\n",
    "load_dotenv() "
   ]
  },
  {
   "cell_type": "code",
   "execution_count": 16,
   "id": "94dda701",
   "metadata": {},
   "outputs": [],
   "source": [
    "import openai\n",
    "from openai import OpenAI\n",
    "client = OpenAI()\n"
   ]
  },
  {
   "cell_type": "code",
   "execution_count": 18,
   "id": "7680088c",
   "metadata": {},
   "outputs": [],
   "source": [
    "response = client.chat.completions.create(\n",
    "    model=\"gpt-4o\",\n",
    "    messages=[{\n",
    "        \"role\":\"user\",\n",
    "        \"content\":\"What is the capital of Himachal Pradesh?\"\n",
    "    }]\n",
    "\n",
    ")"
   ]
  },
  {
   "cell_type": "code",
   "execution_count": 19,
   "id": "560997d2",
   "metadata": {},
   "outputs": [
    {
     "data": {
      "text/plain": [
       "'The capital of Himachal Pradesh is Shimla. Additionally, Dharamshala serves as the winter capital of the state.'"
      ]
     },
     "execution_count": 19,
     "metadata": {},
     "output_type": "execute_result"
    }
   ],
   "source": [
    "response.choices[0].message.content.strip()  # Extracting the response content"
   ]
  },
  {
   "cell_type": "code",
   "execution_count": null,
   "id": "b722e909",
   "metadata": {},
   "outputs": [],
   "source": [
    "def build_prompt(query, search_results):\n",
    "    template = (\n",
    "        \"You're a course teaching assistant. Answer the QUESTION based on the CONTEXT \"\n",
    "        \"from the FAQ database. Use only the facts from the CONTEXT when answering.\\n\\n\"\n",
    "        \"QUESTION: {question}\\n\\nCONTEXT:\\n{context}\"\n",
    "    )\n",
    "\n",
    "    # Efficiently assemble the context blocks\n",
    "    blocks = [\n",
    "        f\"section: {doc['section']}\\n\"\n",
    "        f\"question: {doc['question']}\\n\"\n",
    "        f\"answer: {doc['text']}\"\n",
    "        for doc in search_results\n",
    "    ]\n",
    "    context = \"\\n\\n\".join(blocks)\n",
    "\n",
    "    return template.format(question=query, context=context)\n"
   ]
  },
  {
   "cell_type": "code",
   "execution_count": null,
   "id": "140ce0ec",
   "metadata": {},
   "outputs": [],
   "source": []
  }
 ],
 "metadata": {
  "kernelspec": {
   "display_name": ".venv",
   "language": "python",
   "name": "python3"
  },
  "language_info": {
   "codemirror_mode": {
    "name": "ipython",
    "version": 3
   },
   "file_extension": ".py",
   "mimetype": "text/x-python",
   "name": "python",
   "nbconvert_exporter": "python",
   "pygments_lexer": "ipython3",
   "version": "3.12.10"
  }
 },
 "nbformat": 4,
 "nbformat_minor": 5
}
