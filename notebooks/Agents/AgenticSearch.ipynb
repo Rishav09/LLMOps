{
 "cells": [
  {
   "cell_type": "code",
   "execution_count": 1,
   "id": "b6db4301",
   "metadata": {},
   "outputs": [],
   "source": [
    "import minsearch\n",
    "import json\n",
    "import requests"
   ]
  },
  {
   "cell_type": "code",
   "execution_count": 2,
   "id": "ff67d0c1",
   "metadata": {},
   "outputs": [],
   "source": [
    "docs_url = 'https://github.com/alexeygrigorev/llm-rag-workshop/raw/main/notebooks/documents.json'\n",
    "docs_response = requests.get(docs_url)\n",
    "documents_raw = docs_response.json()\n",
    "\n",
    "documents = []\n",
    "\n",
    "for course in documents_raw:\n",
    "    course_name = course['course']\n",
    "\n",
    "    for doc in course['documents']:\n",
    "        doc['course'] = course_name\n",
    "        documents.append(doc)"
   ]
  },
  {
   "cell_type": "code",
   "execution_count": 3,
   "id": "92ae4f64",
   "metadata": {},
   "outputs": [
    {
     "data": {
      "text/plain": [
       "<minsearch.minsearch.Index at 0x11294bb90>"
      ]
     },
     "execution_count": 3,
     "metadata": {},
     "output_type": "execute_result"
    }
   ],
   "source": [
    "from minsearch import Index\n",
    "\n",
    "index = Index(\n",
    "    text_fields=[\"question\", \"text\", \"section\"],\n",
    "    keyword_fields=[\"course\"]\n",
    ")\n",
    "\n",
    "index.fit(documents)"
   ]
  },
  {
   "cell_type": "code",
   "execution_count": 4,
   "id": "6d45b040",
   "metadata": {},
   "outputs": [],
   "source": [
    "def search(query):\n",
    "    boost = {'question': 3.0, 'section': 0.5}\n",
    "\n",
    "    results = index.search(\n",
    "        query=query,\n",
    "        filter_dict={'course': 'data-engineering-zoomcamp'},\n",
    "        boost_dict=boost,\n",
    "        num_results=5,\n",
    "        output_ids=True\n",
    "    )\n",
    "\n",
    "    return results"
   ]
  },
  {
   "cell_type": "code",
   "execution_count": null,
   "id": "6e83db02",
   "metadata": {},
   "outputs": [],
   "source": [
    "from textwrap import dedent\n",
    "TEMPLATE = dedent(\"\"\"\\\n",
    "                You're given a QUESTION from a course student and that you need to answer with \n",
    "                your own knowledge and provided CONTEXT.\n",
    "                At the beginning the context is EMPTY.\n",
    "\n",
    "                <QUESTION>{question}</QUESTION>\n",
    "                <CONTEXT>{context}</CONTEXT>\n",
    "                \n",
    "                If CONTEXT is EMPTY, you can use our FAQ database.\n",
    "                In this case, use the following output template:\n",
    "                {{\n",
    "                \"action\": \"SEARCH\",\n",
    "                \"reasoning\": \"<add your reasoning here>\"\n",
    "                }} \n",
    "                \n",
    "                If you can answer the QUESTION using CONTEXT, use this template:\n",
    "                {{\n",
    "                \"action\": \"ANSWER\",\n",
    "                \"answer\": \"<your answer>\",\n",
    "                \"source\": \"CONTEXT\"\n",
    "                }}\n",
    "                If the context doesn't contain the answer, use your own knowledge to answer the question\n",
    "                {{\n",
    "                \"action\": \"ANSWER\",\n",
    "                \"answer\": \"<your answer>\", \n",
    "                \"source\": \"OWN_KNOWLEDGE\"\n",
    "                }}  \n",
    "                \"\"\" \n",
    "                )\n",
    "def build_context(search_results: list[dict]) -> str:\n",
    "    context_blocks = [\n",
    "        f\"section: {d['section']}\\n question: {d['question']}\\n answer: {d['text']}\"\n",
    "        for d in search_results\n",
    "    ]\n",
    "    context = \"\\n\\n\".join(context_blocks)\n",
    "    return context"
   ]
  },
  {
   "cell_type": "code",
   "execution_count": 7,
   "id": "9f08b35c",
   "metadata": {},
   "outputs": [],
   "source": [
    "from openai import OpenAI\n",
    "client = OpenAI()\n",
    "\n",
    "def llm(prompt):\n",
    "    response = client.chat.completions.create(\n",
    "        model='gpt-4o-mini',\n",
    "        messages=[{\"role\": \"user\", \"content\": prompt}]\n",
    "    )\n",
    "    return response.choices[0].message.content"
   ]
  },
  {
   "cell_type": "code",
   "execution_count": 11,
   "id": "360976c9",
   "metadata": {},
   "outputs": [
    {
     "name": "stdout",
     "output_type": "stream",
     "text": [
      "{\n",
      "\"action\": \"SEARCH\",\n",
      "\"reasoning\": \"The context is empty, and I need to check the FAQ database for information regarding course enrollment.\"\n",
      "}\n"
     ]
    }
   ],
   "source": [
    "question = \"Can I still join the course?\"\n",
    "context = \"EMPTY\"\n",
    "\n",
    "prompt = TEMPLATE.format(question=question, context=context)\n",
    "# print(prompt)\n",
    "answer = llm(prompt)\n",
    "print(answer)"
   ]
  },
  {
   "cell_type": "code",
   "execution_count": 12,
   "id": "308aef72",
   "metadata": {},
   "outputs": [],
   "source": [
    "search_results = search(question)\n",
    "context = build_context(search_results)\n",
    "prompt = TEMPLATE.format(question=question, context=context)"
   ]
  },
  {
   "cell_type": "code",
   "execution_count": 13,
   "id": "cea47f8d",
   "metadata": {},
   "outputs": [
    {
     "data": {
      "text/plain": [
       "'You\\'re given a QUESTION from a course student and that you need to answer with \\nyour own knowledge and provided CONTEXT.\\nAt the beginning the context is EMPTY.\\n\\n<QUESTION>Can I still join the course?</QUESTION>\\n<CONTEXT>section: General course-related questions\\nquestion: Course - Can I still join the course after the start date?\\nanswer: Yes, even if you don\\'t register, you\\'re still eligible to submit the homeworks.\\nBe aware, however, that there will be deadlines for turning in the final projects. So don\\'t leave everything for the last minute.\\n\\nsection: General course-related questions\\nquestion: Course - When will the course start?\\nanswer: The purpose of this document is to capture frequently asked technical questions\\nThe exact day and hour of the course will be 15th Jan 2024 at 17h00. The course will start with the first  “Office Hours\\'\\' live.1\\nSubscribe to course public Google Calendar (it works from Desktop only).\\nRegister before the course starts using this link.\\nJoin the course Telegram channel with announcements.\\nDon’t forget to register in DataTalks.Club\\'s Slack and join the channel.\\n\\nsection: General course-related questions\\nquestion: Course - Can I follow the course after it finishes?\\nanswer: Yes, we will keep all the materials after the course finishes, so you can follow the course at your own pace after it finishes.\\nYou can also continue looking at the homeworks and continue preparing for the next cohort. I guess you can also start working on your final capstone project.\\n\\nsection: General course-related questions\\nquestion: Course - What can I do before the course starts?\\nanswer: You can start by installing and setting up all the dependencies and requirements:\\nGoogle cloud account\\nGoogle Cloud SDK\\nPython 3 (installed with Anaconda)\\nTerraform\\nGit\\nLook over the prerequisites and syllabus to see if you are comfortable with these subjects.\\n\\nsection: General course-related questions\\nquestion: How can we contribute to the course?\\nanswer: Star the repo! Share it with friends if you find it useful ❣️\\nCreate a PR if you see you can improve the text or the structure of the repository.</CONTEXT>\\n\\nIf CONTEXT is EMPTY, you can use our FAQ database.\\nIn this case, use the following output template:\\n{\\n\"action\": \"SEARCH\",\\n\"reasoning\": \"<add your reasoning here>\"\\n} \\n\\nIf you can answer the QUESTION using CONTEXT, use this template:\\n{\\n\"action\": \"ANSWER\",\\n\"answer\": \"<your answer>\",\\n\"source\": \"CONTEXT\"\\n}\\nIf the context doesn\\'t contain the answer, use your own knowledge to answer the question\\n{\\n\"action\": \"ANSWER\",\\n\"answer\": \"<your answer>\", \\n\"source\": \"OWN_KNOWLEDGE\"\\n}  \\n'"
      ]
     },
     "execution_count": 13,
     "metadata": {},
     "output_type": "execute_result"
    }
   ],
   "source": [
    "prompt"
   ]
  },
  {
   "cell_type": "code",
   "execution_count": 12,
   "id": "73c35d1c",
   "metadata": {},
   "outputs": [],
   "source": [
    "from openai import OpenAI\n",
    "client = OpenAI()\n",
    "\n",
    "def llm(prompt):\n",
    "    response = client.chat.completions.create(\n",
    "        model='gpt-4o-mini',\n",
    "        messages=[{\"role\": \"user\", \"content\": prompt}]\n",
    "    )\n",
    "    return response.choices[0].message.content\n",
    "\n",
    "def rag(query):\n",
    "    search_results = search(query)\n",
    "    prompt = build_prompt(query, search_results)\n",
    "    answer = llm(prompt)\n",
    "    return answer"
   ]
  },
  {
   "cell_type": "code",
   "execution_count": null,
   "id": "b5332a85",
   "metadata": {},
   "outputs": [],
   "source": []
  }
 ],
 "metadata": {
  "kernelspec": {
   "display_name": "llmops",
   "language": "python",
   "name": "python3"
  },
  "language_info": {
   "codemirror_mode": {
    "name": "ipython",
    "version": 3
   },
   "file_extension": ".py",
   "mimetype": "text/x-python",
   "name": "python",
   "nbconvert_exporter": "python",
   "pygments_lexer": "ipython3",
   "version": "3.12.10"
  }
 },
 "nbformat": 4,
 "nbformat_minor": 5
}
